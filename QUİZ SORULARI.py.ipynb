{
 "cells": [
  {
   "cell_type": "code",
   "execution_count": null,
   "id": "9d5bd773",
   "metadata": {},
   "outputs": [],
   "source": [
    "widths=[5,10,10,10,10,10,10,10,10,10,10,10,10,10,10,10,10,10,10,10,10,10,10,10,10,10,10]\n",
    "s=\"abcdefghijklmnopretxyz\"\n",
    "sayac=0\n",
    "kontrol=0\n",
    "result=[]\n",
    "for i in s:\n",
    "    w=ord(i)-ord('a')\n",
    "    sayac+=widths[w]\n",
    "    if sayac>=100:\n",
    "        sayac=0\n",
    "        kontrol+=1\n",
    "        w=i\n",
    "    \n",
    "result.append(kontrol)\n",
    "result.append(sayac)\n",
    "\n",
    "print(result)        \n"
   ]
  },
  {
   "cell_type": "markdown",
   "id": "41832d83",
   "metadata": {},
   "source": [
    "MATRİS k KAT KÜÇÜLTME"
   ]
  },
  {
   "cell_type": "code",
   "execution_count": null,
   "id": "5ee915cf",
   "metadata": {},
   "outputs": [],
   "source": [
    "import random\n",
    "N=int(input(\"NxN Matris Boyutunu Giriniz,N=\"))\n",
    "K=int(input(\"küçültme oranını Giriniz,K=\"))\n",
    "N=N-N%K\n",
    "M=[[int(random.random()*100) for i in range(N)] for j in range(N)]\n",
    "print(len(M),len(M[0]))\n",
    "#for i in range(N):\n",
    "#    print(M[i])"
   ]
  },
  {
   "cell_type": "code",
   "execution_count": null,
   "id": "2058ebe7",
   "metadata": {},
   "outputs": [],
   "source": [
    "My=[[0 for i in range(int(N/K))] for j in range(int(N/K))]\n",
    "for i in range((int(N/K))):\n",
    "    print(My[i])\n",
    "for i in range(int(N/K)):\n",
    "    for j in range(int(N/K)):\n",
    "        top=0 \n",
    "        for k1 in range(K):\n",
    "            for k2 in range(K):\n",
    "                top=top+M[K*i+k1][K*j+k2]\n",
    "        My[i][j]=round(top/K*K)\n",
    "   # print(My[i])\n",
    "print(len(My),len(My[0]))    "
   ]
  },
  {
   "cell_type": "code",
   "execution_count": null,
   "id": "5515b7ef",
   "metadata": {},
   "outputs": [],
   "source": []
  },
  {
   "cell_type": "code",
   "execution_count": null,
   "id": "485ecf2a",
   "metadata": {},
   "outputs": [],
   "source": []
  }
 ],
 "metadata": {
  "kernelspec": {
   "display_name": "Python 3 (ipykernel)",
   "language": "python",
   "name": "python3"
  },
  "language_info": {
   "codemirror_mode": {
    "name": "ipython",
    "version": 3
   },
   "file_extension": ".py",
   "mimetype": "text/x-python",
   "name": "python",
   "nbconvert_exporter": "python",
   "pygments_lexer": "ipython3",
   "version": "3.9.13"
  }
 },
 "nbformat": 4,
 "nbformat_minor": 5
}
